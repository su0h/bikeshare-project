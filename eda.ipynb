{
 "cells": [
  {
   "cell_type": "code",
   "execution_count": 225,
   "id": "307f03e0-5892-4399-a9f7-3b0459ca8fb4",
   "metadata": {},
   "outputs": [],
   "source": [
    "import pandas as pd\n",
    "import numpy as np"
   ]
  },
  {
   "cell_type": "code",
   "execution_count": 245,
   "id": "be450e1a-bdc8-4a8d-9283-a2a68aa49387",
   "metadata": {},
   "outputs": [],
   "source": [
    "# FILTERS:\n",
    "state_filter = \"chicago\"\n",
    "month_filter = \"February\"\n",
    "day_filter = \"Wednesday\"\n",
    "\n",
    "if state_filter == \"chicago\":\n",
    "    df = pd.read_csv(\"./data/chicago.csv\")\n",
    "elif state_filter == \"new york\":\n",
    "    df = pd.read_csv(\"./data/new_york_city.csv\")\n",
    "elif state_filter == \"new york\":\n",
    "    df = pd.read_csv(\"./data/washington.csv\")"
   ]
  },
  {
   "cell_type": "code",
   "execution_count": 252,
   "id": "5728d994-2be3-4781-be80-fdff191f5253",
   "metadata": {},
   "outputs": [
    {
     "data": {
      "text/plain": [
       "['Male', 'Female']"
      ]
     },
     "execution_count": 252,
     "metadata": {},
     "output_type": "execute_result"
    }
   ],
   "source": [
    "df[\"Gender\"].value_counts().keys().to_list()"
   ]
  },
  {
   "cell_type": "code",
   "execution_count": 228,
   "id": "99671816-052a-4d39-abb5-952642aa70a9",
   "metadata": {
    "scrolled": true
   },
   "outputs": [
    {
     "name": "stdout",
     "output_type": "stream",
     "text": [
      "<class 'pandas.core.frame.DataFrame'>\n",
      "RangeIndex: 300000 entries, 0 to 299999\n",
      "Data columns (total 9 columns):\n",
      " #   Column         Non-Null Count   Dtype  \n",
      "---  ------         --------------   -----  \n",
      " 0   Unnamed: 0     300000 non-null  int64  \n",
      " 1   Start Time     300000 non-null  object \n",
      " 2   End Time       300000 non-null  object \n",
      " 3   Trip Duration  300000 non-null  int64  \n",
      " 4   Start Station  300000 non-null  object \n",
      " 5   End Station    300000 non-null  object \n",
      " 6   User Type      300000 non-null  object \n",
      " 7   Gender         238948 non-null  object \n",
      " 8   Birth Year     238981 non-null  float64\n",
      "dtypes: float64(1), int64(2), object(6)\n",
      "memory usage: 20.6+ MB\n"
     ]
    }
   ],
   "source": [
    "df.info()"
   ]
  },
  {
   "cell_type": "markdown",
   "id": "e0a42af9-e704-4a64-a860-00a3c53b2003",
   "metadata": {},
   "source": [
    "## Clean up dataframe"
   ]
  },
  {
   "cell_type": "code",
   "execution_count": 229,
   "id": "5700cd92-dab8-4321-abe1-ddd8ecdd03d4",
   "metadata": {
    "scrolled": true
   },
   "outputs": [
    {
     "name": "stdout",
     "output_type": "stream",
     "text": [
      "<class 'pandas.core.frame.DataFrame'>\n",
      "RangeIndex: 300000 entries, 0 to 299999\n",
      "Data columns (total 9 columns):\n",
      " #   Column         Non-Null Count   Dtype \n",
      "---  ------         --------------   ----- \n",
      " 0   id             300000 non-null  int64 \n",
      " 1   start_time     300000 non-null  object\n",
      " 2   end_time       300000 non-null  object\n",
      " 3   trip_duration  300000 non-null  int64 \n",
      " 4   start_station  300000 non-null  object\n",
      " 5   end_station    300000 non-null  object\n",
      " 6   user_type      300000 non-null  object\n",
      " 7   gender         238948 non-null  object\n",
      " 8   birth_year     300000 non-null  int64 \n",
      "dtypes: int64(3), object(6)\n",
      "memory usage: 20.6+ MB\n"
     ]
    }
   ],
   "source": [
    "# Change column names\n",
    "df = df.rename(columns={\n",
    "    \"Unnamed: 0\" : \"id\", \n",
    "    \"Start Time\" : \"start_time\", \n",
    "    \"End Time\" : \"end_time\", \n",
    "    \"Trip Duration\" : \"trip_duration\", \n",
    "    \"Start Station\" : \"start_station\", \n",
    "    \"End Station\" : \"end_station\", \n",
    "    \"User Type\" : \"user_type\", \n",
    "    \"Gender\" : \"gender\", \n",
    "    \"Birth Year\" : \"birth_year\"\n",
    "})\n",
    "\n",
    "\n",
    "df[\"birth_year\"] = df[\"birth_year\"].fillna(0)\n",
    "df[\"birth_year\"] = df[\"birth_year\"].astype(int)\n",
    "\n",
    "df.info()"
   ]
  },
  {
   "cell_type": "code",
   "execution_count": 230,
   "id": "db4eb38d-5c3b-4284-869e-3cd2ba48a45b",
   "metadata": {},
   "outputs": [],
   "source": [
    "df[\"start_time\"] = pd.to_datetime(df['start_time'])\n",
    "df[\"end_time\"] = pd.to_datetime(df['end_time'])\n",
    "\n",
    "df[\"year\"] = df[\"start_time\"].dt.year\n",
    "df[\"month\"] = df[\"start_time\"].dt.month_name()\n",
    "df[\"day\"] = df[\"start_time\"].dt.day\n",
    "df[\"weekday\"] = df[\"start_time\"].dt.day_name()\n",
    "df[\"hour\"] = df[\"start_time\"].dt.hour"
   ]
  },
  {
   "cell_type": "markdown",
   "id": "545a00ac-0368-459d-894b-13485dbed566",
   "metadata": {},
   "source": [
    "## 1: Popular times of travel\n",
    "- most common month\n",
    "- most common day of the week\n",
    "- most common hour of the day"
   ]
  },
  {
   "cell_type": "code",
   "execution_count": 231,
   "id": "d495f42c-d8a3-4e61-9643-10b35f75887c",
   "metadata": {},
   "outputs": [
    {
     "name": "stdout",
     "output_type": "stream",
     "text": [
      "The most common month of travel is June with 98,081 travels\n"
     ]
    }
   ],
   "source": [
    "counts = df[\"month\"].value_counts()\n",
    "month = counts.nlargest().index[0]\n",
    "amount = counts.nlargest().iloc[0]\n",
    "print(f\"The most common month of travel is {month} with {format(amount, ',d')} travels\")"
   ]
  },
  {
   "cell_type": "code",
   "execution_count": 232,
   "id": "4131cc5a-57e9-4227-b9d6-f8729362284e",
   "metadata": {},
   "outputs": [
    {
     "name": "stdout",
     "output_type": "stream",
     "text": [
      "The most common day of travel is Tuesday with 45,912 travels\n"
     ]
    }
   ],
   "source": [
    "counts = df[\"weekday\"].value_counts()\n",
    "day = counts.nlargest().index[0]\n",
    "amount = counts.nlargest().iloc[0]\n",
    "print(f\"The most common day of travel is {day} with {format(amount, ',d')} travels\")"
   ]
  },
  {
   "cell_type": "code",
   "execution_count": 233,
   "id": "2feea7bf-55a9-4111-bb8c-824655030c37",
   "metadata": {},
   "outputs": [
    {
     "name": "stdout",
     "output_type": "stream",
     "text": [
      "The most common hour of travel is 5:00 PM with 35,992 travels\n"
     ]
    }
   ],
   "source": [
    "counts = df[\"hour\"].value_counts()\n",
    "hour = counts.nlargest().index[0]\n",
    "hour = f\"{hour - 12}:00 PM\" if hour >= 12 else f\"{hour}:00 AM\"\n",
    "amount = counts.nlargest().iloc[0]\n",
    "print(f\"The most common hour of travel is {hour} with {format(amount, ',d')} travels\")"
   ]
  },
  {
   "cell_type": "code",
   "execution_count": 234,
   "id": "cdd8bb57-a234-4a82-8f02-bfbb9426a66b",
   "metadata": {},
   "outputs": [
    {
     "data": {
      "text/html": [
       "<div>\n",
       "<style scoped>\n",
       "    .dataframe tbody tr th:only-of-type {\n",
       "        vertical-align: middle;\n",
       "    }\n",
       "\n",
       "    .dataframe tbody tr th {\n",
       "        vertical-align: top;\n",
       "    }\n",
       "\n",
       "    .dataframe thead th {\n",
       "        text-align: right;\n",
       "    }\n",
       "</style>\n",
       "<table border=\"1\" class=\"dataframe\">\n",
       "  <thead>\n",
       "    <tr style=\"text-align: right;\">\n",
       "      <th></th>\n",
       "      <th>id</th>\n",
       "      <th>start_time</th>\n",
       "      <th>end_time</th>\n",
       "      <th>trip_duration</th>\n",
       "      <th>start_station</th>\n",
       "      <th>end_station</th>\n",
       "      <th>user_type</th>\n",
       "      <th>gender</th>\n",
       "      <th>birth_year</th>\n",
       "      <th>year</th>\n",
       "      <th>month</th>\n",
       "      <th>day</th>\n",
       "      <th>weekday</th>\n",
       "      <th>hour</th>\n",
       "    </tr>\n",
       "  </thead>\n",
       "  <tbody>\n",
       "    <tr>\n",
       "      <th>10</th>\n",
       "      <td>175805</td>\n",
       "      <td>2017-02-15 07:09:55</td>\n",
       "      <td>2017-02-15 07:14:56</td>\n",
       "      <td>301</td>\n",
       "      <td>Broadway &amp; Barry Ave</td>\n",
       "      <td>Wilton Ave &amp; Belmont Ave</td>\n",
       "      <td>Subscriber</td>\n",
       "      <td>Female</td>\n",
       "      <td>1993</td>\n",
       "      <td>2017</td>\n",
       "      <td>February</td>\n",
       "      <td>15</td>\n",
       "      <td>Wednesday</td>\n",
       "      <td>7</td>\n",
       "    </tr>\n",
       "    <tr>\n",
       "      <th>35</th>\n",
       "      <td>243879</td>\n",
       "      <td>2017-02-22 15:33:56</td>\n",
       "      <td>2017-02-22 15:54:07</td>\n",
       "      <td>1211</td>\n",
       "      <td>Streeter Dr &amp; Grand Ave</td>\n",
       "      <td>Theater on the Lake</td>\n",
       "      <td>Customer</td>\n",
       "      <td>NaN</td>\n",
       "      <td>0</td>\n",
       "      <td>2017</td>\n",
       "      <td>February</td>\n",
       "      <td>22</td>\n",
       "      <td>Wednesday</td>\n",
       "      <td>15</td>\n",
       "    </tr>\n",
       "    <tr>\n",
       "      <th>49</th>\n",
       "      <td>141745</td>\n",
       "      <td>2017-02-08 07:13:31</td>\n",
       "      <td>2017-02-08 07:16:17</td>\n",
       "      <td>166</td>\n",
       "      <td>Pine Grove Ave &amp; Irving Park Rd</td>\n",
       "      <td>Clarendon Ave &amp; Gordon Ter</td>\n",
       "      <td>Subscriber</td>\n",
       "      <td>Male</td>\n",
       "      <td>1986</td>\n",
       "      <td>2017</td>\n",
       "      <td>February</td>\n",
       "      <td>8</td>\n",
       "      <td>Wednesday</td>\n",
       "      <td>7</td>\n",
       "    </tr>\n",
       "    <tr>\n",
       "      <th>55</th>\n",
       "      <td>239793</td>\n",
       "      <td>2017-02-22 07:51:44</td>\n",
       "      <td>2017-02-22 08:00:14</td>\n",
       "      <td>510</td>\n",
       "      <td>Broadway &amp; Barry Ave</td>\n",
       "      <td>Sedgwick St &amp; Webster Ave</td>\n",
       "      <td>Subscriber</td>\n",
       "      <td>Male</td>\n",
       "      <td>1988</td>\n",
       "      <td>2017</td>\n",
       "      <td>February</td>\n",
       "      <td>22</td>\n",
       "      <td>Wednesday</td>\n",
       "      <td>7</td>\n",
       "    </tr>\n",
       "    <tr>\n",
       "      <th>122</th>\n",
       "      <td>178170</td>\n",
       "      <td>2017-02-15 14:45:08</td>\n",
       "      <td>2017-02-15 14:59:11</td>\n",
       "      <td>843</td>\n",
       "      <td>State St &amp; Van Buren St</td>\n",
       "      <td>Clinton St &amp; 18th St</td>\n",
       "      <td>Subscriber</td>\n",
       "      <td>Male</td>\n",
       "      <td>1985</td>\n",
       "      <td>2017</td>\n",
       "      <td>February</td>\n",
       "      <td>15</td>\n",
       "      <td>Wednesday</td>\n",
       "      <td>14</td>\n",
       "    </tr>\n",
       "    <tr>\n",
       "      <th>...</th>\n",
       "      <td>...</td>\n",
       "      <td>...</td>\n",
       "      <td>...</td>\n",
       "      <td>...</td>\n",
       "      <td>...</td>\n",
       "      <td>...</td>\n",
       "      <td>...</td>\n",
       "      <td>...</td>\n",
       "      <td>...</td>\n",
       "      <td>...</td>\n",
       "      <td>...</td>\n",
       "      <td>...</td>\n",
       "      <td>...</td>\n",
       "      <td>...</td>\n",
       "    </tr>\n",
       "    <tr>\n",
       "      <th>299512</th>\n",
       "      <td>245744</td>\n",
       "      <td>2017-02-22 17:10:48</td>\n",
       "      <td>2017-02-22 17:33:07</td>\n",
       "      <td>1339</td>\n",
       "      <td>Lake Shore Dr &amp; Ohio St</td>\n",
       "      <td>Clinton St &amp; Lake St</td>\n",
       "      <td>Subscriber</td>\n",
       "      <td>Female</td>\n",
       "      <td>1984</td>\n",
       "      <td>2017</td>\n",
       "      <td>February</td>\n",
       "      <td>22</td>\n",
       "      <td>Wednesday</td>\n",
       "      <td>17</td>\n",
       "    </tr>\n",
       "    <tr>\n",
       "      <th>299579</th>\n",
       "      <td>141346</td>\n",
       "      <td>2017-02-08 04:22:07</td>\n",
       "      <td>2017-02-08 04:28:06</td>\n",
       "      <td>359</td>\n",
       "      <td>Broadway &amp; Belmont Ave</td>\n",
       "      <td>Broadway &amp; Waveland Ave</td>\n",
       "      <td>Subscriber</td>\n",
       "      <td>Male</td>\n",
       "      <td>1989</td>\n",
       "      <td>2017</td>\n",
       "      <td>February</td>\n",
       "      <td>8</td>\n",
       "      <td>Wednesday</td>\n",
       "      <td>4</td>\n",
       "    </tr>\n",
       "    <tr>\n",
       "      <th>299727</th>\n",
       "      <td>178512</td>\n",
       "      <td>2017-02-15 16:08:34</td>\n",
       "      <td>2017-02-15 16:23:21</td>\n",
       "      <td>887</td>\n",
       "      <td>Mies van der Rohe Way &amp; Chicago Ave</td>\n",
       "      <td>Green St &amp; Randolph St</td>\n",
       "      <td>Subscriber</td>\n",
       "      <td>Male</td>\n",
       "      <td>1973</td>\n",
       "      <td>2017</td>\n",
       "      <td>February</td>\n",
       "      <td>15</td>\n",
       "      <td>Wednesday</td>\n",
       "      <td>16</td>\n",
       "    </tr>\n",
       "    <tr>\n",
       "      <th>299788</th>\n",
       "      <td>145200</td>\n",
       "      <td>2017-02-08 17:40:03</td>\n",
       "      <td>2017-02-08 17:56:06</td>\n",
       "      <td>963</td>\n",
       "      <td>Franklin St &amp; Jackson Blvd</td>\n",
       "      <td>Clark St &amp; Elm St</td>\n",
       "      <td>Subscriber</td>\n",
       "      <td>Male</td>\n",
       "      <td>1986</td>\n",
       "      <td>2017</td>\n",
       "      <td>February</td>\n",
       "      <td>8</td>\n",
       "      <td>Wednesday</td>\n",
       "      <td>17</td>\n",
       "    </tr>\n",
       "    <tr>\n",
       "      <th>299830</th>\n",
       "      <td>245445</td>\n",
       "      <td>2017-02-22 17:00:07</td>\n",
       "      <td>2017-02-22 17:19:37</td>\n",
       "      <td>1170</td>\n",
       "      <td>Dearborn St &amp; Monroe St</td>\n",
       "      <td>Halsted St &amp; Archer Ave</td>\n",
       "      <td>Subscriber</td>\n",
       "      <td>Male</td>\n",
       "      <td>1967</td>\n",
       "      <td>2017</td>\n",
       "      <td>February</td>\n",
       "      <td>22</td>\n",
       "      <td>Wednesday</td>\n",
       "      <td>17</td>\n",
       "    </tr>\n",
       "  </tbody>\n",
       "</table>\n",
       "<p>5079 rows × 14 columns</p>\n",
       "</div>"
      ],
      "text/plain": [
       "            id          start_time            end_time  trip_duration  \\\n",
       "10      175805 2017-02-15 07:09:55 2017-02-15 07:14:56            301   \n",
       "35      243879 2017-02-22 15:33:56 2017-02-22 15:54:07           1211   \n",
       "49      141745 2017-02-08 07:13:31 2017-02-08 07:16:17            166   \n",
       "55      239793 2017-02-22 07:51:44 2017-02-22 08:00:14            510   \n",
       "122     178170 2017-02-15 14:45:08 2017-02-15 14:59:11            843   \n",
       "...        ...                 ...                 ...            ...   \n",
       "299512  245744 2017-02-22 17:10:48 2017-02-22 17:33:07           1339   \n",
       "299579  141346 2017-02-08 04:22:07 2017-02-08 04:28:06            359   \n",
       "299727  178512 2017-02-15 16:08:34 2017-02-15 16:23:21            887   \n",
       "299788  145200 2017-02-08 17:40:03 2017-02-08 17:56:06            963   \n",
       "299830  245445 2017-02-22 17:00:07 2017-02-22 17:19:37           1170   \n",
       "\n",
       "                              start_station                 end_station  \\\n",
       "10                     Broadway & Barry Ave    Wilton Ave & Belmont Ave   \n",
       "35                  Streeter Dr & Grand Ave         Theater on the Lake   \n",
       "49          Pine Grove Ave & Irving Park Rd  Clarendon Ave & Gordon Ter   \n",
       "55                     Broadway & Barry Ave   Sedgwick St & Webster Ave   \n",
       "122                 State St & Van Buren St        Clinton St & 18th St   \n",
       "...                                     ...                         ...   \n",
       "299512              Lake Shore Dr & Ohio St        Clinton St & Lake St   \n",
       "299579               Broadway & Belmont Ave     Broadway & Waveland Ave   \n",
       "299727  Mies van der Rohe Way & Chicago Ave      Green St & Randolph St   \n",
       "299788           Franklin St & Jackson Blvd           Clark St & Elm St   \n",
       "299830              Dearborn St & Monroe St     Halsted St & Archer Ave   \n",
       "\n",
       "         user_type  gender  birth_year  year     month  day    weekday  hour  \n",
       "10      Subscriber  Female        1993  2017  February   15  Wednesday     7  \n",
       "35        Customer     NaN           0  2017  February   22  Wednesday    15  \n",
       "49      Subscriber    Male        1986  2017  February    8  Wednesday     7  \n",
       "55      Subscriber    Male        1988  2017  February   22  Wednesday     7  \n",
       "122     Subscriber    Male        1985  2017  February   15  Wednesday    14  \n",
       "...            ...     ...         ...   ...       ...  ...        ...   ...  \n",
       "299512  Subscriber  Female        1984  2017  February   22  Wednesday    17  \n",
       "299579  Subscriber    Male        1989  2017  February    8  Wednesday     4  \n",
       "299727  Subscriber    Male        1973  2017  February   15  Wednesday    16  \n",
       "299788  Subscriber    Male        1986  2017  February    8  Wednesday    17  \n",
       "299830  Subscriber    Male        1967  2017  February   22  Wednesday    17  \n",
       "\n",
       "[5079 rows x 14 columns]"
      ]
     },
     "execution_count": 234,
     "metadata": {},
     "output_type": "execute_result"
    }
   ],
   "source": [
    "# FILTER THE DF\n",
    "filtered_df = df\n",
    "\n",
    "if month_filter != \"no\":\n",
    "    filtered_df = filtered_df[filtered_df[\"month\"] == month_filter]\n",
    "\n",
    "if day_filter != \"no\":\n",
    "    filtered_df = filtered_df[filtered_df[\"weekday\"] == day_filter]\n",
    "\n",
    "df = filtered_df\n",
    "df"
   ]
  },
  {
   "cell_type": "markdown",
   "id": "8919b1ca-9dc6-4106-90c0-757462fa68ef",
   "metadata": {},
   "source": [
    "## 2: Popular stations and trip\n",
    "- most common start station\n",
    "- most common end station\n",
    "- most common trip from start to end (combination of start and end stations)"
   ]
  },
  {
   "cell_type": "code",
   "execution_count": 235,
   "id": "02b1c253-138d-4616-84bd-50a4be618606",
   "metadata": {},
   "outputs": [
    {
     "name": "stdout",
     "output_type": "stream",
     "text": [
      "The most common starting station is Clinton St & Washington Blvd with 115 departures\n"
     ]
    }
   ],
   "source": [
    "start_station = df[\"start_station\"]\n",
    "counts = start_station.value_counts()\n",
    "station = counts.nlargest().index[0]\n",
    "amount = counts.nlargest().iloc[0]\n",
    "print(f\"The most common starting station is {station} with {format(amount, ',d')} departures\")"
   ]
  },
  {
   "cell_type": "code",
   "execution_count": 236,
   "id": "fc4ac8e9-40ae-4081-baca-62bf81ae8849",
   "metadata": {},
   "outputs": [
    {
     "name": "stdout",
     "output_type": "stream",
     "text": [
      "The most common ending station is Clinton St & Washington Blvd with 131 arrivals\n"
     ]
    }
   ],
   "source": [
    "start_station = df[\"end_station\"]\n",
    "counts = start_station.value_counts()\n",
    "station = counts.nlargest().index[0]\n",
    "amount = counts.nlargest().iloc[0]\n",
    "print(f\"The most common ending station is {station} with {format(amount, ',d')} arrivals\")"
   ]
  },
  {
   "cell_type": "code",
   "execution_count": 237,
   "id": "08f02068-8625-4330-bea8-1e21bde03632",
   "metadata": {},
   "outputs": [
    {
     "name": "stdout",
     "output_type": "stream",
     "text": [
      "The most common trip from start to end is between Michigan Ave & Washington St and Canal St & Madison St with 9 travels\n"
     ]
    }
   ],
   "source": [
    "df[\"start_end_stations\"] = df[\"start_station\"] + \" and \" + df[\"end_station\"]\n",
    "start_end_stations = df[\"start_end_stations\"]\n",
    "counts = start_end_stations.value_counts()\n",
    "trip = counts.nlargest().index[0]\n",
    "amount = counts.nlargest().iloc[0]\n",
    "print(f\"The most common trip from start to end is between {trip} with {format(amount, ',d')} travels\")"
   ]
  },
  {
   "cell_type": "markdown",
   "id": "c2e85142-a951-4c82-8c20-ca0df36b3dd4",
   "metadata": {},
   "source": [
    "## 3: Trip Duration\n",
    "- total travel time\n",
    "- average travel time"
   ]
  },
  {
   "cell_type": "code",
   "execution_count": 238,
   "id": "ecab5270-8ad4-4177-bab4-5bd924d3887e",
   "metadata": {},
   "outputs": [
    {
     "name": "stdout",
     "output_type": "stream",
     "text": [
      "60,572 minutes\n"
     ]
    }
   ],
   "source": [
    "travel_times = df[\"trip_duration\"]\n",
    "print(f\"{format(travel_times.sum() // 60, ',d')} minutes\")"
   ]
  },
  {
   "cell_type": "code",
   "execution_count": 239,
   "id": "15608a98-bd0d-4673-b036-62a9813d440d",
   "metadata": {},
   "outputs": [
    {
     "name": "stdout",
     "output_type": "stream",
     "text": [
      "11.926064842160532 minutes on average\n"
     ]
    }
   ],
   "source": [
    "travel_times = df[\"trip_duration\"]\n",
    "print(f\"{travel_times.mean()/60} minutes on average\")"
   ]
  },
  {
   "cell_type": "markdown",
   "id": "03dfe820-28cf-45bc-bfda-ad3073d964f7",
   "metadata": {},
   "source": [
    "## 4: User Info\n",
    "- counts of each user type\n",
    "- counts of each gender (only for NYC and Chicago)\n",
    "- earliest year of birth (only for NYC and Chicago)\n",
    "- most recent year of birth (only for NYC and Chicago)\n",
    "- most common year of birth (only for NYC and Chicago)"
   ]
  },
  {
   "cell_type": "code",
   "execution_count": 240,
   "id": "0174f6f9-0d1d-43ec-a57d-24daa614ba88",
   "metadata": {},
   "outputs": [
    {
     "data": {
      "text/plain": [
       "user_type\n",
       "Subscriber    4765\n",
       "Customer       314\n",
       "Name: count, dtype: int64"
      ]
     },
     "execution_count": 240,
     "metadata": {},
     "output_type": "execute_result"
    }
   ],
   "source": [
    "types = df[\"user_type\"]\n",
    "types.value_counts()"
   ]
  },
  {
   "cell_type": "code",
   "execution_count": 241,
   "id": "4118bc1d-6b21-4a89-b42e-90f860f7e971",
   "metadata": {},
   "outputs": [
    {
     "name": "stdout",
     "output_type": "stream",
     "text": [
      "Males: 3,738\n",
      "Females: 1,026\n"
     ]
    }
   ],
   "source": [
    "genders = df[\"gender\"]\n",
    "counts = genders.value_counts()\n",
    "\n",
    "print(f\"Males: {format(counts[\"Male\"], ',d')}\")\n",
    "print(f\"Females: {format(counts[\"Female\"], ',d')}\")"
   ]
  },
  {
   "cell_type": "code",
   "execution_count": 242,
   "id": "783edd27-5878-4d20-b96c-d1f6724bb84e",
   "metadata": {},
   "outputs": [
    {
     "name": "stdout",
     "output_type": "stream",
     "text": [
      "The earliest year of birth is 1918\n"
     ]
    }
   ],
   "source": [
    "birth_year = df[\"birth_year\"]\n",
    "years = birth_year.unique()\n",
    "years = years[years != 0]\n",
    "minimum = years.min()\n",
    "print(f\"The earliest year of birth is {minimum}\")"
   ]
  },
  {
   "cell_type": "code",
   "execution_count": 243,
   "id": "00910ae8-4181-41a5-be30-326f6e249681",
   "metadata": {},
   "outputs": [
    {
     "name": "stdout",
     "output_type": "stream",
     "text": [
      "The most recent year of birth is 2000\n"
     ]
    }
   ],
   "source": [
    "birth_year = df[\"birth_year\"]\n",
    "years = birth_year.unique()\n",
    "years = years[years != 0]\n",
    "most_recent = years.max()\n",
    "print(f\"The most recent year of birth is {most_recent}\")"
   ]
  },
  {
   "cell_type": "code",
   "execution_count": 244,
   "id": "9b7d0724-57f7-412c-9f4b-4a36fdce08b4",
   "metadata": {},
   "outputs": [
    {
     "name": "stdout",
     "output_type": "stream",
     "text": [
      "The most common year of birth is 1989\n"
     ]
    }
   ],
   "source": [
    "birth_year = df[\"birth_year\"]\n",
    "birth_year = birth_year[birth_year != 0]\n",
    "counts = birth_year.value_counts()\n",
    "most_common = counts.nlargest().index[1]\n",
    "print(f\"The most common year of birth is {most_common}\")"
   ]
  }
 ],
 "metadata": {
  "kernelspec": {
   "display_name": "Python 3 (ipykernel)",
   "language": "python",
   "name": "python3"
  },
  "language_info": {
   "codemirror_mode": {
    "name": "ipython",
    "version": 3
   },
   "file_extension": ".py",
   "mimetype": "text/x-python",
   "name": "python",
   "nbconvert_exporter": "python",
   "pygments_lexer": "ipython3",
   "version": "3.12.7"
  }
 },
 "nbformat": 4,
 "nbformat_minor": 5
}
